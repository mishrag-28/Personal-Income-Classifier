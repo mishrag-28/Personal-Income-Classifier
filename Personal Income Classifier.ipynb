{
 "cells": [
  {
   "cell_type": "code",
   "execution_count": 1,
   "id": "5f32c137",
   "metadata": {},
   "outputs": [],
   "source": [
    "import numpy as np\n",
    "import pandas as pd\n",
    "import seaborn as sns\n",
    "from matplotlib import pyplot as plt"
   ]
  },
  {
   "cell_type": "code",
   "execution_count": 2,
   "id": "0dc33b39",
   "metadata": {},
   "outputs": [
    {
     "data": {
      "text/html": [
       "<div>\n",
       "<style scoped>\n",
       "    .dataframe tbody tr th:only-of-type {\n",
       "        vertical-align: middle;\n",
       "    }\n",
       "\n",
       "    .dataframe tbody tr th {\n",
       "        vertical-align: top;\n",
       "    }\n",
       "\n",
       "    .dataframe thead th {\n",
       "        text-align: right;\n",
       "    }\n",
       "</style>\n",
       "<table border=\"1\" class=\"dataframe\">\n",
       "  <thead>\n",
       "    <tr style=\"text-align: right;\">\n",
       "      <th></th>\n",
       "      <th>age</th>\n",
       "      <th>JobType</th>\n",
       "      <th>EdType</th>\n",
       "      <th>maritalstatus</th>\n",
       "      <th>occupation</th>\n",
       "      <th>relationship</th>\n",
       "      <th>race</th>\n",
       "      <th>gender</th>\n",
       "      <th>capitalgain</th>\n",
       "      <th>capitalloss</th>\n",
       "      <th>hoursperweek</th>\n",
       "      <th>nativecountry</th>\n",
       "      <th>SalStat</th>\n",
       "    </tr>\n",
       "  </thead>\n",
       "  <tbody>\n",
       "    <tr>\n",
       "      <th>0</th>\n",
       "      <td>45</td>\n",
       "      <td>Private</td>\n",
       "      <td>HS-grad</td>\n",
       "      <td>Divorced</td>\n",
       "      <td>Adm-clerical</td>\n",
       "      <td>Not-in-family</td>\n",
       "      <td>White</td>\n",
       "      <td>Female</td>\n",
       "      <td>0</td>\n",
       "      <td>0</td>\n",
       "      <td>28</td>\n",
       "      <td>United-States</td>\n",
       "      <td>less than or equal to 50,000</td>\n",
       "    </tr>\n",
       "    <tr>\n",
       "      <th>1</th>\n",
       "      <td>24</td>\n",
       "      <td>Federal-gov</td>\n",
       "      <td>HS-grad</td>\n",
       "      <td>Never-married</td>\n",
       "      <td>Armed-Forces</td>\n",
       "      <td>Own-child</td>\n",
       "      <td>White</td>\n",
       "      <td>Male</td>\n",
       "      <td>0</td>\n",
       "      <td>0</td>\n",
       "      <td>40</td>\n",
       "      <td>United-States</td>\n",
       "      <td>less than or equal to 50,000</td>\n",
       "    </tr>\n",
       "    <tr>\n",
       "      <th>2</th>\n",
       "      <td>44</td>\n",
       "      <td>Private</td>\n",
       "      <td>Some-college</td>\n",
       "      <td>Married-civ-spouse</td>\n",
       "      <td>Prof-specialty</td>\n",
       "      <td>Husband</td>\n",
       "      <td>White</td>\n",
       "      <td>Male</td>\n",
       "      <td>0</td>\n",
       "      <td>0</td>\n",
       "      <td>40</td>\n",
       "      <td>United-States</td>\n",
       "      <td>greater than 50,000</td>\n",
       "    </tr>\n",
       "    <tr>\n",
       "      <th>3</th>\n",
       "      <td>27</td>\n",
       "      <td>Private</td>\n",
       "      <td>9th</td>\n",
       "      <td>Never-married</td>\n",
       "      <td>Craft-repair</td>\n",
       "      <td>Other-relative</td>\n",
       "      <td>White</td>\n",
       "      <td>Male</td>\n",
       "      <td>0</td>\n",
       "      <td>0</td>\n",
       "      <td>40</td>\n",
       "      <td>Mexico</td>\n",
       "      <td>less than or equal to 50,000</td>\n",
       "    </tr>\n",
       "    <tr>\n",
       "      <th>4</th>\n",
       "      <td>20</td>\n",
       "      <td>Private</td>\n",
       "      <td>Some-college</td>\n",
       "      <td>Never-married</td>\n",
       "      <td>Sales</td>\n",
       "      <td>Not-in-family</td>\n",
       "      <td>White</td>\n",
       "      <td>Male</td>\n",
       "      <td>0</td>\n",
       "      <td>0</td>\n",
       "      <td>35</td>\n",
       "      <td>United-States</td>\n",
       "      <td>less than or equal to 50,000</td>\n",
       "    </tr>\n",
       "  </tbody>\n",
       "</table>\n",
       "</div>"
      ],
      "text/plain": [
       "   age       JobType         EdType        maritalstatus       occupation  \\\n",
       "0   45       Private        HS-grad             Divorced     Adm-clerical   \n",
       "1   24   Federal-gov        HS-grad        Never-married     Armed-Forces   \n",
       "2   44       Private   Some-college   Married-civ-spouse   Prof-specialty   \n",
       "3   27       Private            9th        Never-married     Craft-repair   \n",
       "4   20       Private   Some-college        Never-married            Sales   \n",
       "\n",
       "      relationship    race   gender  capitalgain  capitalloss  hoursperweek  \\\n",
       "0    Not-in-family   White   Female            0            0            28   \n",
       "1        Own-child   White     Male            0            0            40   \n",
       "2          Husband   White     Male            0            0            40   \n",
       "3   Other-relative   White     Male            0            0            40   \n",
       "4    Not-in-family   White     Male            0            0            35   \n",
       "\n",
       "    nativecountry                        SalStat  \n",
       "0   United-States   less than or equal to 50,000  \n",
       "1   United-States   less than or equal to 50,000  \n",
       "2   United-States            greater than 50,000  \n",
       "3          Mexico   less than or equal to 50,000  \n",
       "4   United-States   less than or equal to 50,000  "
      ]
     },
     "execution_count": 2,
     "metadata": {},
     "output_type": "execute_result"
    }
   ],
   "source": [
    "inc=pd.read_csv('income.csv')\n",
    "inc.head()"
   ]
  },
  {
   "cell_type": "code",
   "execution_count": 3,
   "id": "a299e52b",
   "metadata": {},
   "outputs": [
    {
     "name": "stdout",
     "output_type": "stream",
     "text": [
      "<class 'pandas.core.frame.DataFrame'>\n",
      "RangeIndex: 31978 entries, 0 to 31977\n",
      "Data columns (total 13 columns):\n",
      " #   Column         Non-Null Count  Dtype \n",
      "---  ------         --------------  ----- \n",
      " 0   age            31978 non-null  int64 \n",
      " 1   JobType        31978 non-null  object\n",
      " 2   EdType         31978 non-null  object\n",
      " 3   maritalstatus  31978 non-null  object\n",
      " 4   occupation     31978 non-null  object\n",
      " 5   relationship   31978 non-null  object\n",
      " 6   race           31978 non-null  object\n",
      " 7   gender         31978 non-null  object\n",
      " 8   capitalgain    31978 non-null  int64 \n",
      " 9   capitalloss    31978 non-null  int64 \n",
      " 10  hoursperweek   31978 non-null  int64 \n",
      " 11  nativecountry  31978 non-null  object\n",
      " 12  SalStat        31978 non-null  object\n",
      "dtypes: int64(4), object(9)\n",
      "memory usage: 3.2+ MB\n"
     ]
    }
   ],
   "source": [
    "inc.info()"
   ]
  },
  {
   "cell_type": "code",
   "execution_count": 4,
   "id": "ce06402e",
   "metadata": {},
   "outputs": [
    {
     "data": {
      "text/plain": [
       "array([17, 18, 19, 20, 21, 22, 23, 24, 25, 26, 27, 28, 29, 30, 31, 32, 33,\n",
       "       34, 35, 36, 37, 38, 39, 40, 41, 42, 43, 44, 45, 46, 47, 48, 49, 50,\n",
       "       51, 52, 53, 54, 55, 56, 57, 58, 59, 60, 61, 62, 63, 64, 65, 66, 67,\n",
       "       68, 69, 70, 71, 72, 73, 74, 75, 76, 77, 78, 79, 80, 81, 82, 83, 84,\n",
       "       85, 86, 87, 88, 90], dtype=int64)"
      ]
     },
     "execution_count": 4,
     "metadata": {},
     "output_type": "execute_result"
    }
   ],
   "source": [
    "np.unique(inc['age'])  # Divide the data into age groups in the interval of length 10"
   ]
  },
  {
   "cell_type": "code",
   "execution_count": 5,
   "id": "2c69467c",
   "metadata": {},
   "outputs": [
    {
     "name": "stdout",
     "output_type": "stream",
     "text": [
      " $$ Unique values in age: 45 24 44 27 20 51 17 19 60 40 30 38 23 32 54 50 37 52 49 22 35 67 46 33 43 28 41 25 63 59 34 26 72 62 58 47 39 53 57 21 42 74 36 29 31 69 18 65 55 48 71 70 66 56 61 68 64 73 81 78 76 90 88 75 77 80 82 79 83 84 85 86 87\n",
      " $$ Unique values in JobType:  Private  Federal-gov  ?  Self-emp-inc  Self-emp-not-inc  Local-gov  State-gov  Without-pay  Never-worked\n",
      " $$ Unique values in EdType:  HS-grad  Some-college  9th  11th  Assoc-voc  Assoc-acdm  Bachelors  1st-4th  Masters  10th  12th  5th-6th  Prof-school  Doctorate  7th-8th  Preschool\n",
      " $$ Unique values in maritalstatus:  Divorced  Never-married  Married-civ-spouse  Widowed  Married-spouse-absent  Separated  Married-AF-spouse\n",
      " $$ Unique values in occupation:  Adm-clerical  Armed-Forces  Prof-specialty  Craft-repair  Sales  Exec-managerial  Machine-op-inspct  ?  Transport-moving  Farming-fishing  Tech-support  Other-service  Handlers-cleaners  Protective-serv  Priv-house-serv\n",
      " $$ Unique values in relationship:  Not-in-family  Own-child  Husband  Other-relative  Unmarried  Wife\n",
      " $$ Unique values in race:  White  Black  Amer-Indian-Eskimo  Asian-Pac-Islander  Other\n",
      " $$ Unique values in gender:  Female  Male\n",
      " $$ Unique values in capitalgain: 0 594 15024 7688 20051 5013 2174 6849 1055 5178 4101 1111 8614 3411 2597 25236 4386 4650 7298 2407 14084 2463 3103 10605 2964 3325 2580 3471 4865 99999 6514 1471 3674 2329 2105 2885 25124 2176 10520 2202 2961 27828 6767 2228 1506 13550 1409 2635 5556 14344 4787 3781 3137 3818 914 4064 401 2829 2977 4934 2062 2354 3464 5455 15020 1424 3273 22040 4416 3908 10566 991 4931 1086 7430 34095 6497 114 9386 2346 3418 3432 2907 1151 2414 2290 15831 41310 4508 2050 2538 3456 6418 1848 3887 7896 5721 9562 1455 2036 3942 1831 11678 2936 2993 7443 6360 1797 1173 4687 6723 2009 6097 2653 1639 18481 7978 2387 5060\n",
      " $$ Unique values in capitalloss: 0 1977 1380 1887 1902 1762 1721 2051 2377 1669 2352 1672 653 2415 2392 1504 1719 2001 1590 1651 1876 1628 1848 1564 1980 1340 2339 1740 2002 1579 1741 1408 2258 1485 1602 419 2547 2174 2206 2205 1726 2444 1138 2238 2179 625 213 1816 1539 880 1668 1092 1594 2042 2231 1844 810 2824 2559 2057 1573 1974 974 2149 1825 1735 1258 2603 2282 323 4356 2246 1617 1648 2489 3770 1755 3683 2129 2267 2080 2457 155 3900 2201 1944 2467 2163 2754 2472 3004 1411\n",
      " $$ Unique values in hoursperweek: 28 40 35 5 55 50 60 20 45 16 24 6 30 25 36 42 8 38 80 58 9 46 48 32 12 70 47 37 21 64 26 14 15 10 4 65 72 18 56 33 75 7 52 44 99 43 2 53 39 54 62 41 59 1 57 78 90 34 66 11 49 84 3 17 68 22 27 13 98 85 31 51 77 63 23 87 88 73 89 97 19 94 29 96 67 82 86 91 81 76 92 61 74 95\n",
      " $$ Unique values in nativecountry:  United-States  Mexico  Portugal  El-Salvador  Poland  France  Puerto-Rico  Canada  Cuba  Taiwan  Philippines  South  Dominican-Republic  Jamaica  Honduras  Haiti  Germany  Guatemala  England  Italy  China  India  Japan  Yugoslavia  Iran  Thailand  Peru  Outlying-US(Guam-USVI-etc)  Scotland  Trinadad&Tobago  Greece  Nicaragua  Cambodia  Vietnam  Hong  Columbia  Ireland  Ecuador  Laos  Hungary  Holand-Netherlands\n",
      " $$ Unique values in SalStat:  less than or equal to 50,000  greater than 50,000\n"
     ]
    }
   ],
   "source": [
    "unique_values = {}\n",
    "for column in inc.columns:\n",
    "    unique_values[column] = ' '.join(map(str, inc[column].unique()))\n",
    "\n",
    "# Print unique values for each column\n",
    "for column, values in unique_values.items():\n",
    "    print(f' $$ Unique values in {column}: {values}')"
   ]
  },
  {
   "cell_type": "code",
   "execution_count": 6,
   "id": "fbf22e68",
   "metadata": {},
   "outputs": [],
   "source": [
    "# Categorising age t0 different ranges \n",
    "# Define the bin edges and labels for age groups\n",
    "bin_edges = [17, 30, 40, 50, 60, 90]  # Define your age group boundaries\n",
    "bin_labels = ['17-29', '30-39', '40-49', '50-59', '60-90']  # Labels for the groups\n",
    "\n",
    "# Create a new column 'age_group' with the age groups\n",
    "inc['age_group'] = pd.cut(inc['age'], bins=bin_edges, labels=bin_labels, right=False)\n",
    "\n",
    "# Now, 'age_group' will contain the age group for each row in the DataFrame."
   ]
  },
  {
   "cell_type": "code",
   "execution_count": 7,
   "id": "93082355",
   "metadata": {},
   "outputs": [],
   "source": [
    "# Replace \"?\" with NaN in the 'JobType' column\n",
    "inc['JobType'] = inc['JobType'].replace(\" ?\", np.nan)"
   ]
  },
  {
   "cell_type": "code",
   "execution_count": 8,
   "id": "f4c416b9",
   "metadata": {},
   "outputs": [],
   "source": [
    "# Replace \"?\" with NaN in the 'occupation' column\n",
    "inc['occupation'] = inc['occupation'].replace(\" ?\", np.nan)"
   ]
  },
  {
   "cell_type": "code",
   "execution_count": 9,
   "id": "326a618a",
   "metadata": {},
   "outputs": [
    {
     "data": {
      "text/plain": [
       "age                 0\n",
       "JobType          1809\n",
       "EdType              0\n",
       "maritalstatus       0\n",
       "occupation       1816\n",
       "relationship        0\n",
       "race                0\n",
       "gender              0\n",
       "capitalgain         0\n",
       "capitalloss         0\n",
       "hoursperweek        0\n",
       "nativecountry       0\n",
       "SalStat             0\n",
       "age_group          42\n",
       "dtype: int64"
      ]
     },
     "execution_count": 9,
     "metadata": {},
     "output_type": "execute_result"
    }
   ],
   "source": [
    "inc.isna().sum()"
   ]
  },
  {
   "cell_type": "code",
   "execution_count": 10,
   "id": "a7467118",
   "metadata": {},
   "outputs": [
    {
     "name": "stdout",
     "output_type": "stream",
     "text": [
      "       age        JobType         EdType        maritalstatus occupation  \\\n",
      "4825    18   Never-worked           10th        Never-married        NaN   \n",
      "10215   23   Never-worked        7th-8th             Divorced        NaN   \n",
      "14073   17   Never-worked           10th        Never-married        NaN   \n",
      "19542   18   Never-worked           11th        Never-married        NaN   \n",
      "22385   20   Never-worked   Some-college        Never-married        NaN   \n",
      "31296   30   Never-worked        HS-grad   Married-civ-spouse        NaN   \n",
      "31305   18   Never-worked   Some-college        Never-married        NaN   \n",
      "\n",
      "         relationship    race   gender  capitalgain  capitalloss  \\\n",
      "4825        Own-child   White     Male            0            0   \n",
      "10215   Not-in-family   White     Male            0            0   \n",
      "14073       Own-child   White     Male            0            0   \n",
      "19542       Own-child   White   Female            0            0   \n",
      "22385       Own-child   Black     Male            0            0   \n",
      "31296            Wife   Black   Female            0            0   \n",
      "31305       Own-child   White     Male            0            0   \n",
      "\n",
      "       hoursperweek   nativecountry                        SalStat age_group  \n",
      "4825             40   United-States   less than or equal to 50,000     17-29  \n",
      "10215            35   United-States   less than or equal to 50,000     17-29  \n",
      "14073            30   United-States   less than or equal to 50,000     17-29  \n",
      "19542            10   United-States   less than or equal to 50,000     17-29  \n",
      "22385            40   United-States   less than or equal to 50,000     17-29  \n",
      "31296            40   United-States   less than or equal to 50,000     30-39  \n",
      "31305             4   United-States   less than or equal to 50,000     17-29  \n"
     ]
    }
   ],
   "source": [
    "# There are 1809 rows which have JobType and occupation have null values \n",
    "\n",
    "filtered_rows = inc[(inc['occupation'].isnull()) & (~inc['JobType'].isnull())]\n",
    "# Display the filtered rows\n",
    "print(filtered_rows)\n",
    "\n",
    "# so jobtype which has null values in occupation is Never-worked . So it should be imputed with some other category."
   ]
  },
  {
   "cell_type": "code",
   "execution_count": 11,
   "id": "16922b37",
   "metadata": {},
   "outputs": [],
   "source": [
    "# Replace null values in 'occupation' with \"Unemployed\" when 'JobType' is \"Never-worked\"\n",
    "inc['occupation'] = inc.apply(\n",
    "    lambda row: \" Unemployed\" if row['JobType'] == \" Never-worked\" and pd.isna(row['occupation']) else row['occupation'],axis=1)"
   ]
  },
  {
   "cell_type": "code",
   "execution_count": 12,
   "id": "c2e492b7",
   "metadata": {},
   "outputs": [
    {
     "data": {
      "text/plain": [
       "age                 0\n",
       "JobType          1809\n",
       "EdType              0\n",
       "maritalstatus       0\n",
       "occupation       1809\n",
       "relationship        0\n",
       "race                0\n",
       "gender              0\n",
       "capitalgain         0\n",
       "capitalloss         0\n",
       "hoursperweek        0\n",
       "nativecountry       0\n",
       "SalStat             0\n",
       "age_group          42\n",
       "dtype: int64"
      ]
     },
     "execution_count": 12,
     "metadata": {},
     "output_type": "execute_result"
    }
   ],
   "source": [
    "inc.isna().sum()"
   ]
  },
  {
   "cell_type": "code",
   "execution_count": 13,
   "id": "bb3dd555",
   "metadata": {},
   "outputs": [],
   "source": [
    "# The dataset is conatining a large number of rows so we can afforf to remove rows containing null values\n",
    "inc=inc.dropna()"
   ]
  },
  {
   "cell_type": "code",
   "execution_count": 14,
   "id": "38afa1b9",
   "metadata": {},
   "outputs": [
    {
     "data": {
      "text/plain": [
       "(30134, 14)"
      ]
     },
     "execution_count": 14,
     "metadata": {},
     "output_type": "execute_result"
    }
   ],
   "source": [
    "inc.shape"
   ]
  },
  {
   "cell_type": "code",
   "execution_count": 15,
   "id": "96bf6f80",
   "metadata": {},
   "outputs": [
    {
     "data": {
      "text/plain": [
       "(26878, 14)"
      ]
     },
     "execution_count": 15,
     "metadata": {},
     "output_type": "execute_result"
    }
   ],
   "source": [
    "inc.drop_duplicates(keep='first',inplace=True)\n",
    "inc.shape"
   ]
  },
  {
   "cell_type": "code",
   "execution_count": 16,
   "id": "fd0a5902",
   "metadata": {},
   "outputs": [],
   "source": [
    "inc=inc.drop(['capitalgain','capitalloss'],axis=1)"
   ]
  },
  {
   "cell_type": "markdown",
   "id": "a0e675f1",
   "metadata": {},
   "source": [
    "# EDA"
   ]
  },
  {
   "cell_type": "code",
   "execution_count": 17,
   "id": "648bf517",
   "metadata": {},
   "outputs": [
    {
     "data": {
      "text/plain": [
       "<BarContainer object of 15 artists>"
      ]
     },
     "execution_count": 17,
     "metadata": {},
     "output_type": "execute_result"
    },
    {
     "data": {
      "image/png": "[encoded data removed]",
      "text/plain": [
       "<Figure size 3000x600 with 1 Axes>"
      ]
     },
     "metadata": {},
     "output_type": "display_data"
    }
   ],
   "source": [
    "plt.figure(figsize=(30,6))\n",
    "values=inc['occupation'].value_counts()\n",
    "lst=list(np.unique(inc['occupation']))\n",
    "plt.bar(lst,values)\n",
    "#There are wide range of jobs being done by customers."
   ]
  },
  {
   "cell_type": "code",
   "execution_count": 18,
   "id": "fc41aedf",
   "metadata": {},
   "outputs": [
    {
     "data": {
      "text/plain": [
       "<BarContainer object of 6 artists>"
      ]
     },
     "execution_count": 18,
     "metadata": {},
     "output_type": "execute_result"
    },
    {
     "data": {
      "image/png": "[encoded data removed]",
      "text/plain": [
       "<Figure size 1500x600 with 1 Axes>"
      ]
     },
     "metadata": {},
     "output_type": "display_data"
    }
   ],
   "source": [
    "plt.figure(figsize=(15,6))\n",
    "values=inc['relationship'].value_counts()\n",
    "lst=list(np.unique(inc['relationship']))\n",
    "plt.bar(lst,values)"
   ]
  },
  {
   "cell_type": "code",
   "execution_count": 19,
   "id": "316fa683",
   "metadata": {},
   "outputs": [
    {
     "data": {
      "text/plain": [
       "<BarContainer object of 94 artists>"
      ]
     },
     "execution_count": 19,
     "metadata": {},
     "output_type": "execute_result"
    },
    {
     "data": {
      "image/png": "[encoded data removed]",
      "text/plain": [
       "<Figure size 1500x600 with 1 Axes>"
      ]
     },
     "metadata": {},
     "output_type": "display_data"
    }
   ],
   "source": [
    "plt.figure(figsize=(15,6))\n",
    "values=inc['hoursperweek'].value_counts()\n",
    "lst=list(np.unique(inc['hoursperweek']))\n",
    "plt.bar(lst,values)"
   ]
  },
  {
   "cell_type": "code",
   "execution_count": 20,
   "id": "aa4ad41c",
   "metadata": {},
   "outputs": [
    {
     "data": {
      "text/html": [
       "<div>\n",
       "<style scoped>\n",
       "    .dataframe tbody tr th:only-of-type {\n",
       "        vertical-align: middle;\n",
       "    }\n",
       "\n",
       "    .dataframe tbody tr th {\n",
       "        vertical-align: top;\n",
       "    }\n",
       "\n",
       "    .dataframe thead th {\n",
       "        text-align: right;\n",
       "    }\n",
       "</style>\n",
       "<table border=\"1\" class=\"dataframe\">\n",
       "  <thead>\n",
       "    <tr style=\"text-align: right;\">\n",
       "      <th>hoursperweek</th>\n",
       "      <th>1</th>\n",
       "      <th>2</th>\n",
       "      <th>3</th>\n",
       "      <th>4</th>\n",
       "      <th>5</th>\n",
       "      <th>6</th>\n",
       "      <th>7</th>\n",
       "      <th>8</th>\n",
       "      <th>9</th>\n",
       "      <th>10</th>\n",
       "      <th>...</th>\n",
       "      <th>89</th>\n",
       "      <th>90</th>\n",
       "      <th>91</th>\n",
       "      <th>92</th>\n",
       "      <th>94</th>\n",
       "      <th>95</th>\n",
       "      <th>96</th>\n",
       "      <th>97</th>\n",
       "      <th>98</th>\n",
       "      <th>99</th>\n",
       "    </tr>\n",
       "    <tr>\n",
       "      <th>SalStat</th>\n",
       "      <th></th>\n",
       "      <th></th>\n",
       "      <th></th>\n",
       "      <th></th>\n",
       "      <th></th>\n",
       "      <th></th>\n",
       "      <th></th>\n",
       "      <th></th>\n",
       "      <th></th>\n",
       "      <th></th>\n",
       "      <th></th>\n",
       "      <th></th>\n",
       "      <th></th>\n",
       "      <th></th>\n",
       "      <th></th>\n",
       "      <th></th>\n",
       "      <th></th>\n",
       "      <th></th>\n",
       "      <th></th>\n",
       "      <th></th>\n",
       "      <th></th>\n",
       "    </tr>\n",
       "  </thead>\n",
       "  <tbody>\n",
       "    <tr>\n",
       "      <th>greater than 50,000</th>\n",
       "      <td>1</td>\n",
       "      <td>2</td>\n",
       "      <td>1</td>\n",
       "      <td>2</td>\n",
       "      <td>6</td>\n",
       "      <td>4</td>\n",
       "      <td>2</td>\n",
       "      <td>6</td>\n",
       "      <td>1</td>\n",
       "      <td>13</td>\n",
       "      <td>...</td>\n",
       "      <td>1</td>\n",
       "      <td>10</td>\n",
       "      <td>0</td>\n",
       "      <td>0</td>\n",
       "      <td>0</td>\n",
       "      <td>1</td>\n",
       "      <td>1</td>\n",
       "      <td>1</td>\n",
       "      <td>3</td>\n",
       "      <td>25</td>\n",
       "    </tr>\n",
       "    <tr>\n",
       "      <th>less than or equal to 50,000</th>\n",
       "      <td>6</td>\n",
       "      <td>13</td>\n",
       "      <td>23</td>\n",
       "      <td>26</td>\n",
       "      <td>31</td>\n",
       "      <td>36</td>\n",
       "      <td>16</td>\n",
       "      <td>93</td>\n",
       "      <td>16</td>\n",
       "      <td>194</td>\n",
       "      <td>...</td>\n",
       "      <td>1</td>\n",
       "      <td>18</td>\n",
       "      <td>3</td>\n",
       "      <td>1</td>\n",
       "      <td>1</td>\n",
       "      <td>1</td>\n",
       "      <td>4</td>\n",
       "      <td>1</td>\n",
       "      <td>8</td>\n",
       "      <td>52</td>\n",
       "    </tr>\n",
       "  </tbody>\n",
       "</table>\n",
       "<p>2 rows × 94 columns</p>\n",
       "</div>"
      ],
      "text/plain": [
       "hoursperweek                   1   2   3   4   5   6   7   8   9    10  ...  \\\n",
       "SalStat                                                                 ...   \n",
       " greater than 50,000            1   2   1   2   6   4   2   6   1   13  ...   \n",
       " less than or equal to 50,000   6  13  23  26  31  36  16  93  16  194  ...   \n",
       "\n",
       "hoursperweek                   89  90  91  92  94  95  96  97  98  99  \n",
       "SalStat                                                                \n",
       " greater than 50,000            1  10   0   0   0   1   1   1   3  25  \n",
       " less than or equal to 50,000   1  18   3   1   1   1   4   1   8  52  \n",
       "\n",
       "[2 rows x 94 columns]"
      ]
     },
     "execution_count": 20,
     "metadata": {},
     "output_type": "execute_result"
    }
   ],
   "source": [
    "cross_tab = pd.crosstab(inc['SalStat'], inc['hoursperweek'])\n",
    "cross_tab"
   ]
  },
  {
   "cell_type": "code",
   "execution_count": 21,
   "id": "a767d313",
   "metadata": {},
   "outputs": [
    {
     "name": "stdout",
     "output_type": "stream",
     "text": [
      "Chi-Square Statistic: 2079.3902282140043\n",
      "P-value: 0.0\n",
      "Degrees of Freedom: 93\n"
     ]
    }
   ],
   "source": [
    "from scipy.stats import chi2_contingency\n",
    "chi2, p, dof, expected = chi2_contingency(cross_tab)\n",
    "print(\"Chi-Square Statistic:\", chi2)\n",
    "print(\"P-value:\", p)\n",
    "print(\"Degrees of Freedom:\", dof)\n"
   ]
  },
  {
   "cell_type": "code",
   "execution_count": 22,
   "id": "65bb0964",
   "metadata": {},
   "outputs": [
    {
     "name": "stdout",
     "output_type": "stream",
     "text": [
      "SalStat         greater than 50,000   less than or equal to 50,000\n",
      "EdType                                                            \n",
      " 10th                            56                            715\n",
      " 11th                            59                            881\n",
      " 12th                            29                            329\n",
      " 1st-4th                          6                            143\n",
      " 5th-6th                         12                            271\n",
      " 7th-8th                         35                            505\n",
      " 9th                             25                            423\n",
      " Assoc-acdm                     255                            738\n",
      " Assoc-voc                      333                            923\n",
      " Bachelors                     1886                           2610\n",
      " Doctorate                      269                             95\n",
      " HS-grad                       1426                           6833\n",
      " Masters                        862                            692\n",
      " Preschool                        0                             44\n",
      " Prof-school                    395                            136\n",
      " Some-college                  1225                           4667\n",
      "Chi-Square Statistic: 3539.392423390046\n",
      "P-value: 0.0\n",
      "Degrees of Freedom: 15\n"
     ]
    }
   ],
   "source": [
    "cross_tab1 = pd.crosstab(inc['EdType'],inc['SalStat'])\n",
    "print(cross_tab1)\n",
    "chi2, p, dof, expected = chi2_contingency(cross_tab1)\n",
    "print(\"Chi-Square Statistic:\", chi2)\n",
    "print(\"P-value:\", p)\n",
    "print(\"Degrees of Freedom:\", dof)"
   ]
  },
  {
   "cell_type": "code",
   "execution_count": 23,
   "id": "6962e517",
   "metadata": {},
   "outputs": [
    {
     "name": "stdout",
     "output_type": "stream",
     "text": [
      "SalStat                  greater than 50,000   less than or equal to 50,000\n",
      "maritalstatus                                                              \n",
      " Divorced                                449                           3560\n",
      " Married-AF-spouse                        10                             11\n",
      " Married-civ-spouse                     5775                           6580\n",
      " Married-spouse-absent                    31                            339\n",
      " Never-married                           463                           7918\n",
      " Separated                                66                            861\n",
      " Widowed                                  79                            736\n",
      "Chi-Square Statistic: 5450.957595097082\n",
      "P-value: 0.0\n",
      "Degrees of Freedom: 6\n"
     ]
    }
   ],
   "source": [
    "cross_tab2 = pd.crosstab(inc['maritalstatus'],inc['SalStat'])\n",
    "print(cross_tab2)\n",
    "chi2, p, dof, expected = chi2_contingency(cross_tab2)\n",
    "print(\"Chi-Square Statistic:\", chi2)\n",
    "print(\"P-value:\", p)\n",
    "print(\"Degrees of Freedom:\", dof)"
   ]
  },
  {
   "cell_type": "code",
   "execution_count": 24,
   "id": "568f5f41",
   "metadata": {},
   "outputs": [
    {
     "name": "stdout",
     "output_type": "stream",
     "text": [
      "SalStat           greater than 50,000   less than or equal to 50,000\n",
      "relationship                                                        \n",
      " Husband                         5082                           5712\n",
      " Not-in-family                    812                           6296\n",
      " Other-relative                    35                            838\n",
      " Own-child                         64                           3591\n",
      " Unmarried                        213                           2870\n",
      " Wife                             667                            698\n",
      "Chi-Square Statistic: 5627.8968482096625\n",
      "P-value: 0.0\n",
      "Degrees of Freedom: 5\n"
     ]
    }
   ],
   "source": [
    "cross_tab3 = pd.crosstab(inc['relationship'],inc['SalStat'])\n",
    "print(cross_tab3)\n",
    "chi2, p, dof, expected = chi2_contingency(cross_tab3)\n",
    "print(\"Chi-Square Statistic:\", chi2)\n",
    "print(\"P-value:\", p)\n",
    "print(\"Degrees of Freedom:\", dof)"
   ]
  },
  {
   "cell_type": "code",
   "execution_count": 25,
   "id": "569607ba",
   "metadata": {},
   "outputs": [
    {
     "data": {
      "text/html": [
       "<div>\n",
       "<style scoped>\n",
       "    .dataframe tbody tr th:only-of-type {\n",
       "        vertical-align: middle;\n",
       "    }\n",
       "\n",
       "    .dataframe tbody tr th {\n",
       "        vertical-align: top;\n",
       "    }\n",
       "\n",
       "    .dataframe thead th {\n",
       "        text-align: right;\n",
       "    }\n",
       "</style>\n",
       "<table border=\"1\" class=\"dataframe\">\n",
       "  <thead>\n",
       "    <tr style=\"text-align: right;\">\n",
       "      <th></th>\n",
       "      <th>age</th>\n",
       "      <th>JobType</th>\n",
       "      <th>EdType</th>\n",
       "      <th>maritalstatus</th>\n",
       "      <th>occupation</th>\n",
       "      <th>relationship</th>\n",
       "      <th>gender</th>\n",
       "      <th>hoursperweek</th>\n",
       "      <th>nativecountry</th>\n",
       "      <th>SalStat</th>\n",
       "      <th>age_group</th>\n",
       "      <th>new_race_column</th>\n",
       "    </tr>\n",
       "  </thead>\n",
       "  <tbody>\n",
       "    <tr>\n",
       "      <th>0</th>\n",
       "      <td>45</td>\n",
       "      <td>Private</td>\n",
       "      <td>HS-grad</td>\n",
       "      <td>Divorced</td>\n",
       "      <td>Adm-clerical</td>\n",
       "      <td>Not-in-family</td>\n",
       "      <td>Female</td>\n",
       "      <td>28</td>\n",
       "      <td>United-States</td>\n",
       "      <td>less than or equal to 50,000</td>\n",
       "      <td>40-49</td>\n",
       "      <td>White</td>\n",
       "    </tr>\n",
       "    <tr>\n",
       "      <th>1</th>\n",
       "      <td>24</td>\n",
       "      <td>Federal-gov</td>\n",
       "      <td>HS-grad</td>\n",
       "      <td>Never-married</td>\n",
       "      <td>Armed-Forces</td>\n",
       "      <td>Own-child</td>\n",
       "      <td>Male</td>\n",
       "      <td>40</td>\n",
       "      <td>United-States</td>\n",
       "      <td>less than or equal to 50,000</td>\n",
       "      <td>17-29</td>\n",
       "      <td>White</td>\n",
       "    </tr>\n",
       "    <tr>\n",
       "      <th>2</th>\n",
       "      <td>44</td>\n",
       "      <td>Private</td>\n",
       "      <td>Some-college</td>\n",
       "      <td>Married-civ-spouse</td>\n",
       "      <td>Prof-specialty</td>\n",
       "      <td>Husband</td>\n",
       "      <td>Male</td>\n",
       "      <td>40</td>\n",
       "      <td>United-States</td>\n",
       "      <td>greater than 50,000</td>\n",
       "      <td>40-49</td>\n",
       "      <td>White</td>\n",
       "    </tr>\n",
       "    <tr>\n",
       "      <th>3</th>\n",
       "      <td>27</td>\n",
       "      <td>Private</td>\n",
       "      <td>9th</td>\n",
       "      <td>Never-married</td>\n",
       "      <td>Craft-repair</td>\n",
       "      <td>Other-relative</td>\n",
       "      <td>Male</td>\n",
       "      <td>40</td>\n",
       "      <td>Mexico</td>\n",
       "      <td>less than or equal to 50,000</td>\n",
       "      <td>17-29</td>\n",
       "      <td>White</td>\n",
       "    </tr>\n",
       "    <tr>\n",
       "      <th>4</th>\n",
       "      <td>20</td>\n",
       "      <td>Private</td>\n",
       "      <td>Some-college</td>\n",
       "      <td>Never-married</td>\n",
       "      <td>Sales</td>\n",
       "      <td>Not-in-family</td>\n",
       "      <td>Male</td>\n",
       "      <td>35</td>\n",
       "      <td>United-States</td>\n",
       "      <td>less than or equal to 50,000</td>\n",
       "      <td>17-29</td>\n",
       "      <td>White</td>\n",
       "    </tr>\n",
       "  </tbody>\n",
       "</table>\n",
       "</div>"
      ],
      "text/plain": [
       "   age       JobType         EdType        maritalstatus       occupation  \\\n",
       "0   45       Private        HS-grad             Divorced     Adm-clerical   \n",
       "1   24   Federal-gov        HS-grad        Never-married     Armed-Forces   \n",
       "2   44       Private   Some-college   Married-civ-spouse   Prof-specialty   \n",
       "3   27       Private            9th        Never-married     Craft-repair   \n",
       "4   20       Private   Some-college        Never-married            Sales   \n",
       "\n",
       "      relationship   gender  hoursperweek   nativecountry  \\\n",
       "0    Not-in-family   Female            28   United-States   \n",
       "1        Own-child     Male            40   United-States   \n",
       "2          Husband     Male            40   United-States   \n",
       "3   Other-relative     Male            40          Mexico   \n",
       "4    Not-in-family     Male            35   United-States   \n",
       "\n",
       "                         SalStat age_group new_race_column  \n",
       "0   less than or equal to 50,000     40-49           White  \n",
       "1   less than or equal to 50,000     17-29           White  \n",
       "2            greater than 50,000     40-49           White  \n",
       "3   less than or equal to 50,000     17-29           White  \n",
       "4   less than or equal to 50,000     17-29           White  "
      ]
     },
     "execution_count": 25,
     "metadata": {},
     "output_type": "execute_result"
    }
   ],
   "source": [
    "#changing all other values which are not white as non-white in column 'race'\n",
    "# Replace values other than \" White\" with \" Non-White\" in the 'race' column\n",
    "inc['new_race_column'] = np.where(inc['race'] == ' White',' White',' Non-White')\n",
    "inc=inc.drop(['race'], axis=1)\n",
    "inc.head()"
   ]
  },
  {
   "cell_type": "code",
   "execution_count": 26,
   "id": "4ba1e76b",
   "metadata": {},
   "outputs": [
    {
     "name": "stdout",
     "output_type": "stream",
     "text": [
      "SalStat           greater than 50,000   less than or equal to 50,000\n",
      "new_race_column                                                     \n",
      " Non-White                        665                           3476\n",
      " White                           6208                          16529\n",
      "Chi-Square Statistic: 232.13173989506066\n",
      "P-value: 2.043877108883042e-52\n",
      "Degrees of Freedom: 1\n"
     ]
    }
   ],
   "source": [
    "cross_tab3 = pd.crosstab(inc['new_race_column'],inc['SalStat'])\n",
    "print(cross_tab3)\n",
    "chi2, p, dof, expected = chi2_contingency(cross_tab3)\n",
    "print(\"Chi-Square Statistic:\", chi2)\n",
    "print(\"P-value:\", p)\n",
    "print(\"Degrees of Freedom:\", dof)"
   ]
  },
  {
   "cell_type": "code",
   "execution_count": 27,
   "id": "2257ce56",
   "metadata": {},
   "outputs": [],
   "source": [
    "inc=inc.drop(['gender'],axis=1)"
   ]
  },
  {
   "cell_type": "code",
   "execution_count": 28,
   "id": "57ee7967",
   "metadata": {},
   "outputs": [
    {
     "data": {
      "text/html": [
       "<div>\n",
       "<style scoped>\n",
       "    .dataframe tbody tr th:only-of-type {\n",
       "        vertical-align: middle;\n",
       "    }\n",
       "\n",
       "    .dataframe tbody tr th {\n",
       "        vertical-align: top;\n",
       "    }\n",
       "\n",
       "    .dataframe thead th {\n",
       "        text-align: right;\n",
       "    }\n",
       "</style>\n",
       "<table border=\"1\" class=\"dataframe\">\n",
       "  <thead>\n",
       "    <tr style=\"text-align: right;\">\n",
       "      <th></th>\n",
       "      <th>age</th>\n",
       "      <th>JobType</th>\n",
       "      <th>EdType</th>\n",
       "      <th>maritalstatus</th>\n",
       "      <th>occupation</th>\n",
       "      <th>relationship</th>\n",
       "      <th>nativecountry</th>\n",
       "      <th>SalStat</th>\n",
       "      <th>age_group</th>\n",
       "      <th>new_race_column</th>\n",
       "      <th>hoursperweek_range</th>\n",
       "    </tr>\n",
       "  </thead>\n",
       "  <tbody>\n",
       "    <tr>\n",
       "      <th>0</th>\n",
       "      <td>45</td>\n",
       "      <td>Private</td>\n",
       "      <td>HS-grad</td>\n",
       "      <td>Divorced</td>\n",
       "      <td>Adm-clerical</td>\n",
       "      <td>Not-in-family</td>\n",
       "      <td>United-States</td>\n",
       "      <td>less than or equal to 50,000</td>\n",
       "      <td>40-49</td>\n",
       "      <td>White</td>\n",
       "      <td>21-30</td>\n",
       "    </tr>\n",
       "    <tr>\n",
       "      <th>1</th>\n",
       "      <td>24</td>\n",
       "      <td>Federal-gov</td>\n",
       "      <td>HS-grad</td>\n",
       "      <td>Never-married</td>\n",
       "      <td>Armed-Forces</td>\n",
       "      <td>Own-child</td>\n",
       "      <td>United-States</td>\n",
       "      <td>less than or equal to 50,000</td>\n",
       "      <td>17-29</td>\n",
       "      <td>White</td>\n",
       "      <td>31-40</td>\n",
       "    </tr>\n",
       "    <tr>\n",
       "      <th>2</th>\n",
       "      <td>44</td>\n",
       "      <td>Private</td>\n",
       "      <td>Some-college</td>\n",
       "      <td>Married-civ-spouse</td>\n",
       "      <td>Prof-specialty</td>\n",
       "      <td>Husband</td>\n",
       "      <td>United-States</td>\n",
       "      <td>greater than 50,000</td>\n",
       "      <td>40-49</td>\n",
       "      <td>White</td>\n",
       "      <td>31-40</td>\n",
       "    </tr>\n",
       "    <tr>\n",
       "      <th>3</th>\n",
       "      <td>27</td>\n",
       "      <td>Private</td>\n",
       "      <td>9th</td>\n",
       "      <td>Never-married</td>\n",
       "      <td>Craft-repair</td>\n",
       "      <td>Other-relative</td>\n",
       "      <td>Mexico</td>\n",
       "      <td>less than or equal to 50,000</td>\n",
       "      <td>17-29</td>\n",
       "      <td>White</td>\n",
       "      <td>31-40</td>\n",
       "    </tr>\n",
       "    <tr>\n",
       "      <th>4</th>\n",
       "      <td>20</td>\n",
       "      <td>Private</td>\n",
       "      <td>Some-college</td>\n",
       "      <td>Never-married</td>\n",
       "      <td>Sales</td>\n",
       "      <td>Not-in-family</td>\n",
       "      <td>United-States</td>\n",
       "      <td>less than or equal to 50,000</td>\n",
       "      <td>17-29</td>\n",
       "      <td>White</td>\n",
       "      <td>31-40</td>\n",
       "    </tr>\n",
       "  </tbody>\n",
       "</table>\n",
       "</div>"
      ],
      "text/plain": [
       "   age       JobType         EdType        maritalstatus       occupation  \\\n",
       "0   45       Private        HS-grad             Divorced     Adm-clerical   \n",
       "1   24   Federal-gov        HS-grad        Never-married     Armed-Forces   \n",
       "2   44       Private   Some-college   Married-civ-spouse   Prof-specialty   \n",
       "3   27       Private            9th        Never-married     Craft-repair   \n",
       "4   20       Private   Some-college        Never-married            Sales   \n",
       "\n",
       "      relationship   nativecountry                        SalStat age_group  \\\n",
       "0    Not-in-family   United-States   less than or equal to 50,000     40-49   \n",
       "1        Own-child   United-States   less than or equal to 50,000     17-29   \n",
       "2          Husband   United-States            greater than 50,000     40-49   \n",
       "3   Other-relative          Mexico   less than or equal to 50,000     17-29   \n",
       "4    Not-in-family   United-States   less than or equal to 50,000     17-29   \n",
       "\n",
       "  new_race_column hoursperweek_range  \n",
       "0           White              21-30  \n",
       "1           White              31-40  \n",
       "2           White              31-40  \n",
       "3           White              31-40  \n",
       "4           White              31-40  "
      ]
     },
     "execution_count": 28,
     "metadata": {},
     "output_type": "execute_result"
    }
   ],
   "source": [
    "# Define your custom bins/ranges\n",
    "bins = [1, 11, 21, 31, 41, 51, 61, 71, 81, 91]\n",
    "# Define labels for the bins\n",
    "labels = ['1-10', '11-20', '21-30', '31-40', '41-50', '51-60', '61-70', '71-80', '81-90']\n",
    "inc['hoursperweek_range'] = pd.cut(inc['hoursperweek'], bins=bins, labels=labels, right=False)\n",
    "inc=inc.drop(['hoursperweek'],axis=1)\n",
    "inc.head()\n"
   ]
  },
  {
   "cell_type": "code",
   "execution_count": 29,
   "id": "41695857",
   "metadata": {},
   "outputs": [
    {
     "name": "stdout",
     "output_type": "stream",
     "text": [
      "<class 'pandas.core.frame.DataFrame'>\n",
      "Int64Index: 26878 entries, 0 to 31976\n",
      "Data columns (total 11 columns):\n",
      " #   Column              Non-Null Count  Dtype   \n",
      "---  ------              --------------  -----   \n",
      " 0   age                 26878 non-null  int64   \n",
      " 1   JobType             26878 non-null  object  \n",
      " 2   EdType              26878 non-null  object  \n",
      " 3   maritalstatus       26878 non-null  object  \n",
      " 4   occupation          26878 non-null  object  \n",
      " 5   relationship        26878 non-null  object  \n",
      " 6   nativecountry       26878 non-null  object  \n",
      " 7   SalStat             26878 non-null  object  \n",
      " 8   age_group           26878 non-null  category\n",
      " 9   new_race_column     26878 non-null  object  \n",
      " 10  hoursperweek_range  26776 non-null  category\n",
      "dtypes: category(2), int64(1), object(8)\n",
      "memory usage: 2.1+ MB\n"
     ]
    },
    {
     "data": {
      "text/plain": [
       "(23823, 11)"
      ]
     },
     "execution_count": 29,
     "metadata": {},
     "output_type": "execute_result"
    }
   ],
   "source": [
    "inc.info()\n",
    "inc.drop_duplicates(keep='first',inplace=True)\n",
    "inc.shape"
   ]
  },
  {
   "cell_type": "markdown",
   "id": "554e0040",
   "metadata": {},
   "source": [
    "# Model 1: Filtered columns and then fitted model"
   ]
  },
  {
   "cell_type": "code",
   "execution_count": 59,
   "id": "21f65de7",
   "metadata": {},
   "outputs": [
    {
     "name": "stdout",
     "output_type": "stream",
     "text": [
      "[[ 7.73935436e-01  5.11998939e-01  2.58357622e+00  3.23105831e-02\n",
      "  -5.97357381e-01 -3.82766428e-01 -2.95109979e-02 -2.17354982e-02\n",
      "  -5.24514047e-01  7.70316594e-01 -1.57552540e-02  4.18156849e-01\n",
      "   6.08349580e-01  1.01072980e-01  3.63773514e-01 -1.23614651e-01\n",
      "  -3.74001794e-01  7.61333738e-02 -7.81873210e-02  8.69914376e-02\n",
      "   4.37396603e-01  7.68450592e-01  2.96368312e-01 -2.41976932e-01\n",
      "   3.10284882e-01 -8.58716254e-01 -5.42159328e-01  2.13523302e+00\n",
      "   2.32475759e-02 -2.24206924e-01 -2.41976932e-01  2.02446740e-01\n",
      "  -2.68375670e-01  1.48752556e+00  3.96405974e-01 -7.16131219e-01\n",
      "  -7.19498734e-01  6.91855533e-02 -7.51308859e-01  1.30863261e+00\n",
      "  -2.95054155e-02  5.31868794e-01  1.52692921e-01  5.01024227e-01\n",
      "   3.48550246e-01  9.49348310e-01 -7.17051398e-01 -8.44473775e-01\n",
      "   1.03555849e+00 -7.50524461e-01 -1.83508385e-01  1.96185668e+00\n",
      "  -3.72478859e-01 -3.59170414e-01  1.89725860e+00 -2.63876414e-01\n",
      "   9.94751052e-01 -1.69456321e-01  1.37677254e-01 -5.63807693e-01\n",
      "   3.80870898e-01  4.96962287e-01 -3.45237142e-01 -6.16194669e-01\n",
      "  -8.44779619e-01  4.87464871e-01  4.83349049e-01  5.53186209e-02\n",
      "  -1.54279850e-01 -7.89888436e-01 -6.89522205e-01  1.34975583e-01\n",
      "   3.66618248e-01 -4.60367047e-01  6.86826447e-01  3.61135167e-03\n",
      "  -8.57594801e-01 -5.14179637e-01 -5.60166408e-01 -3.18665114e-01\n",
      "   3.33067478e-01  1.32257148e-01  9.80277798e-01  5.26978091e-01\n",
      "   1.73308593e-03 -1.45886130e+00 -3.72289875e-01  5.85844150e-01\n",
      "  -4.52616321e-01 -4.40933298e-01 -5.64978138e-01 -2.24289798e-01\n",
      "  -5.88441212e-01  2.65153649e+00 -5.36954152e-01  9.68674171e-01\n",
      "   5.93644732e-01 -1.64459632e-01  2.30311363e-01  1.01276889e+00\n",
      "   6.33517487e-01]]\n",
      "[-5.77070664]\n",
      "[[4887  451]\n",
      " [ 859  950]]\n",
      "0.8167063103400029\n"
     ]
    }
   ],
   "source": [
    "from sklearn.model_selection import train_test_split\n",
    "\n",
    "# Importing library for logistic regression\n",
    "from sklearn.linear_model import LogisticRegression\n",
    "\n",
    "# Importing performance metrics - accuracy score & confusion matrix\n",
    "from sklearn.metrics import accuracy_score, precision_score, recall_score, f1_score, confusion_matrix\n",
    "\n",
    "# Reindexing the salary status names to 0,1\n",
    "inc['SalStat']=inc['SalStat'].replace({' less than or equal to 50,000':0,' greater than 50,000':1})\n",
    "# print(inc['SalStat'])\n",
    "\n",
    "new_data=pd.get_dummies(inc, drop_first=True)\n",
    "\n",
    "# Storing the column names \n",
    "columns_list=list(new_data.columns)\n",
    "# print(columns_list)\n",
    "\n",
    "# Separating the input names from data\n",
    "features=list(set(columns_list)-set(['SalStat']))\n",
    "# print(features)\n",
    "\n",
    "# Storing the output values in y\n",
    "y=new_data['SalStat'].values\n",
    "#print(y)\n",
    "\n",
    "# Storing the values from input features\n",
    "x = new_data[features].values\n",
    "#print(x)\n",
    "\n",
    "# Splitting the data into train and test\n",
    "train_x,test_x,train_y,test_y = train_test_split(x,y,test_size=0.3, random_state=0)\n",
    "\n",
    "# Make an instance of the Model\n",
    "logistic = LogisticRegression(solver='lbfgs', max_iter=10000)\n",
    "\n",
    "# Fitting the values for x and y\n",
    "logistic.fit(train_x,train_y)\n",
    "print(logistic.coef_)\n",
    "print(logistic.intercept_)\n",
    "\n",
    "# Prediction from test data\n",
    "prediction = logistic.predict(test_x)\n",
    "# print(prediction)\n",
    "\n",
    "# Confusion matrix\n",
    "confusion_matrix = confusion_matrix(test_y, prediction)\n",
    "print(confusion_matrix)\n",
    "\n",
    "# Calculating the accuracy\n",
    "accuracy_score=accuracy_score(test_y, prediction)\n",
    "print(accuracy_score)\n"
   ]
  },
  {
   "cell_type": "code",
   "execution_count": 61,
   "id": "c80ed3cc",
   "metadata": {},
   "outputs": [
    {
     "name": "stdout",
     "output_type": "stream",
     "text": [
      "roc_auc score :  0.867570011811804\n",
      "Classification Report :\n",
      "                precision    recall  f1-score   support\n",
      "\n",
      "           0       0.85      0.92      0.88      5338\n",
      "           1       0.68      0.53      0.59      1809\n",
      "\n",
      "    accuracy                           0.82      7147\n",
      "   macro avg       0.76      0.72      0.74      7147\n",
      "weighted avg       0.81      0.82      0.81      7147\n",
      "\n",
      "confusion Matrix:\n",
      " [[4887  451]\n",
      " [ 859  950]]\n"
     ]
    }
   ],
   "source": [
    "from sklearn.metrics import classification_report, confusion_matrix, roc_auc_score\n",
    "\n",
    "roc_auc = roc_auc_score(test_y, logistic.predict_proba(test_x)[:,1])\n",
    "\n",
    "print(\"roc_auc score : \", roc_auc)\n",
    "print(\"Classification Report :\\n \",classification_report(test_y,prediction))\n",
    "print(\"confusion Matrix:\\n\", confusion_matrix(test_y,prediction))"
   ]
  },
  {
   "cell_type": "markdown",
   "id": "f559c422",
   "metadata": {},
   "source": [
    "# Model 2: Fitting model on just cleaned data"
   ]
  },
  {
   "cell_type": "code",
   "execution_count": 38,
   "id": "c21727c8",
   "metadata": {},
   "outputs": [
    {
     "data": {
      "text/html": [
       "<div>\n",
       "<style scoped>\n",
       "    .dataframe tbody tr th:only-of-type {\n",
       "        vertical-align: middle;\n",
       "    }\n",
       "\n",
       "    .dataframe tbody tr th {\n",
       "        vertical-align: top;\n",
       "    }\n",
       "\n",
       "    .dataframe thead th {\n",
       "        text-align: right;\n",
       "    }\n",
       "</style>\n",
       "<table border=\"1\" class=\"dataframe\">\n",
       "  <thead>\n",
       "    <tr style=\"text-align: right;\">\n",
       "      <th></th>\n",
       "      <th>age</th>\n",
       "      <th>JobType</th>\n",
       "      <th>EdType</th>\n",
       "      <th>maritalstatus</th>\n",
       "      <th>occupation</th>\n",
       "      <th>relationship</th>\n",
       "      <th>race</th>\n",
       "      <th>gender</th>\n",
       "      <th>capitalgain</th>\n",
       "      <th>capitalloss</th>\n",
       "      <th>hoursperweek</th>\n",
       "      <th>nativecountry</th>\n",
       "      <th>SalStat</th>\n",
       "    </tr>\n",
       "  </thead>\n",
       "  <tbody>\n",
       "    <tr>\n",
       "      <th>0</th>\n",
       "      <td>45</td>\n",
       "      <td>Private</td>\n",
       "      <td>HS-grad</td>\n",
       "      <td>Divorced</td>\n",
       "      <td>Adm-clerical</td>\n",
       "      <td>Not-in-family</td>\n",
       "      <td>White</td>\n",
       "      <td>Female</td>\n",
       "      <td>0</td>\n",
       "      <td>0</td>\n",
       "      <td>28</td>\n",
       "      <td>United-States</td>\n",
       "      <td>less than or equal to 50,000</td>\n",
       "    </tr>\n",
       "    <tr>\n",
       "      <th>1</th>\n",
       "      <td>24</td>\n",
       "      <td>Federal-gov</td>\n",
       "      <td>HS-grad</td>\n",
       "      <td>Never-married</td>\n",
       "      <td>Armed-Forces</td>\n",
       "      <td>Own-child</td>\n",
       "      <td>White</td>\n",
       "      <td>Male</td>\n",
       "      <td>0</td>\n",
       "      <td>0</td>\n",
       "      <td>40</td>\n",
       "      <td>United-States</td>\n",
       "      <td>less than or equal to 50,000</td>\n",
       "    </tr>\n",
       "    <tr>\n",
       "      <th>2</th>\n",
       "      <td>44</td>\n",
       "      <td>Private</td>\n",
       "      <td>Some-college</td>\n",
       "      <td>Married-civ-spouse</td>\n",
       "      <td>Prof-specialty</td>\n",
       "      <td>Husband</td>\n",
       "      <td>White</td>\n",
       "      <td>Male</td>\n",
       "      <td>0</td>\n",
       "      <td>0</td>\n",
       "      <td>40</td>\n",
       "      <td>United-States</td>\n",
       "      <td>greater than 50,000</td>\n",
       "    </tr>\n",
       "    <tr>\n",
       "      <th>3</th>\n",
       "      <td>27</td>\n",
       "      <td>Private</td>\n",
       "      <td>9th</td>\n",
       "      <td>Never-married</td>\n",
       "      <td>Craft-repair</td>\n",
       "      <td>Other-relative</td>\n",
       "      <td>White</td>\n",
       "      <td>Male</td>\n",
       "      <td>0</td>\n",
       "      <td>0</td>\n",
       "      <td>40</td>\n",
       "      <td>Mexico</td>\n",
       "      <td>less than or equal to 50,000</td>\n",
       "    </tr>\n",
       "    <tr>\n",
       "      <th>4</th>\n",
       "      <td>20</td>\n",
       "      <td>Private</td>\n",
       "      <td>Some-college</td>\n",
       "      <td>Never-married</td>\n",
       "      <td>Sales</td>\n",
       "      <td>Not-in-family</td>\n",
       "      <td>White</td>\n",
       "      <td>Male</td>\n",
       "      <td>0</td>\n",
       "      <td>0</td>\n",
       "      <td>35</td>\n",
       "      <td>United-States</td>\n",
       "      <td>less than or equal to 50,000</td>\n",
       "    </tr>\n",
       "  </tbody>\n",
       "</table>\n",
       "</div>"
      ],
      "text/plain": [
       "   age       JobType         EdType        maritalstatus       occupation  \\\n",
       "0   45       Private        HS-grad             Divorced     Adm-clerical   \n",
       "1   24   Federal-gov        HS-grad        Never-married     Armed-Forces   \n",
       "2   44       Private   Some-college   Married-civ-spouse   Prof-specialty   \n",
       "3   27       Private            9th        Never-married     Craft-repair   \n",
       "4   20       Private   Some-college        Never-married            Sales   \n",
       "\n",
       "      relationship    race   gender  capitalgain  capitalloss  hoursperweek  \\\n",
       "0    Not-in-family   White   Female            0            0            28   \n",
       "1        Own-child   White     Male            0            0            40   \n",
       "2          Husband   White     Male            0            0            40   \n",
       "3   Other-relative   White     Male            0            0            40   \n",
       "4    Not-in-family   White     Male            0            0            35   \n",
       "\n",
       "    nativecountry                        SalStat  \n",
       "0   United-States   less than or equal to 50,000  \n",
       "1   United-States   less than or equal to 50,000  \n",
       "2   United-States            greater than 50,000  \n",
       "3          Mexico   less than or equal to 50,000  \n",
       "4   United-States   less than or equal to 50,000  "
      ]
     },
     "execution_count": 38,
     "metadata": {},
     "output_type": "execute_result"
    }
   ],
   "source": [
    "inc2=pd.read_csv('income.csv')\n",
    "inc2.head()"
   ]
  },
  {
   "cell_type": "code",
   "execution_count": 39,
   "id": "eb45e716",
   "metadata": {},
   "outputs": [],
   "source": [
    "bin_edges = [17, 30, 40, 50, 60, 90]  # Define your age group boundaries\n",
    "bin_labels = ['17-29', '30-39', '40-49', '50-59', '60-90']  # Labels for the groups\n",
    "\n",
    "# Create a new column 'age_group' with the age groups\n",
    "inc2['age_group'] = pd.cut(inc2['age'], bins=bin_edges, labels=bin_labels, right=False)\n"
   ]
  },
  {
   "cell_type": "code",
   "execution_count": 40,
   "id": "3901d639",
   "metadata": {},
   "outputs": [],
   "source": [
    "# Replace \"?\" with NaN in the 'JobType' column\n",
    "inc2['JobType'] = inc2['JobType'].replace(\" ?\", np.nan)\n",
    "# Replace \"?\" with NaN in the 'occupation' column\n",
    "inc2['occupation'] = inc2['occupation'].replace(\" ?\", np.nan)"
   ]
  },
  {
   "cell_type": "code",
   "execution_count": 41,
   "id": "24fcc413",
   "metadata": {},
   "outputs": [],
   "source": [
    "# Replace null values in 'occupation' with \"Unemployed\" when 'JobType' is \"Never-worked\"\n",
    "inc2['occupation'] = inc2.apply(\n",
    "    lambda row: \" Unemployed\" if row['JobType'] == \" Never-worked\" and pd.isna(row['occupation']) else row['occupation'],axis=1)"
   ]
  },
  {
   "cell_type": "code",
   "execution_count": 42,
   "id": "8bbf95c0",
   "metadata": {},
   "outputs": [
    {
     "data": {
      "text/plain": [
       "(26878, 14)"
      ]
     },
     "execution_count": 42,
     "metadata": {},
     "output_type": "execute_result"
    }
   ],
   "source": [
    "# The dataset is conatining a large number of rows so we can afforf to remove rows containing null values\n",
    "inc2=inc2.dropna()\n",
    "inc2.drop_duplicates(keep='first',inplace=True)\n",
    "inc2.shape"
   ]
  },
  {
   "cell_type": "code",
   "execution_count": 43,
   "id": "51c5d56f",
   "metadata": {},
   "outputs": [],
   "source": [
    "inc2['new_race_column'] = np.where(inc2['race'] == ' White',' White',' Non-White')\n",
    "inc2=inc2.drop(['race','age'],axis=1)"
   ]
  },
  {
   "cell_type": "code",
   "execution_count": 44,
   "id": "67868ffe",
   "metadata": {},
   "outputs": [
    {
     "data": {
      "text/html": [
       "<div>\n",
       "<style scoped>\n",
       "    .dataframe tbody tr th:only-of-type {\n",
       "        vertical-align: middle;\n",
       "    }\n",
       "\n",
       "    .dataframe tbody tr th {\n",
       "        vertical-align: top;\n",
       "    }\n",
       "\n",
       "    .dataframe thead th {\n",
       "        text-align: right;\n",
       "    }\n",
       "</style>\n",
       "<table border=\"1\" class=\"dataframe\">\n",
       "  <thead>\n",
       "    <tr style=\"text-align: right;\">\n",
       "      <th></th>\n",
       "      <th>JobType</th>\n",
       "      <th>EdType</th>\n",
       "      <th>maritalstatus</th>\n",
       "      <th>occupation</th>\n",
       "      <th>relationship</th>\n",
       "      <th>gender</th>\n",
       "      <th>capitalgain</th>\n",
       "      <th>capitalloss</th>\n",
       "      <th>hoursperweek</th>\n",
       "      <th>nativecountry</th>\n",
       "      <th>SalStat</th>\n",
       "      <th>age_group</th>\n",
       "      <th>new_race_column</th>\n",
       "    </tr>\n",
       "  </thead>\n",
       "  <tbody>\n",
       "    <tr>\n",
       "      <th>0</th>\n",
       "      <td>Private</td>\n",
       "      <td>HS-grad</td>\n",
       "      <td>Divorced</td>\n",
       "      <td>Adm-clerical</td>\n",
       "      <td>Not-in-family</td>\n",
       "      <td>Female</td>\n",
       "      <td>0</td>\n",
       "      <td>0</td>\n",
       "      <td>28</td>\n",
       "      <td>United-States</td>\n",
       "      <td>less than or equal to 50,000</td>\n",
       "      <td>40-49</td>\n",
       "      <td>White</td>\n",
       "    </tr>\n",
       "    <tr>\n",
       "      <th>1</th>\n",
       "      <td>Federal-gov</td>\n",
       "      <td>HS-grad</td>\n",
       "      <td>Never-married</td>\n",
       "      <td>Armed-Forces</td>\n",
       "      <td>Own-child</td>\n",
       "      <td>Male</td>\n",
       "      <td>0</td>\n",
       "      <td>0</td>\n",
       "      <td>40</td>\n",
       "      <td>United-States</td>\n",
       "      <td>less than or equal to 50,000</td>\n",
       "      <td>17-29</td>\n",
       "      <td>White</td>\n",
       "    </tr>\n",
       "    <tr>\n",
       "      <th>2</th>\n",
       "      <td>Private</td>\n",
       "      <td>Some-college</td>\n",
       "      <td>Married-civ-spouse</td>\n",
       "      <td>Prof-specialty</td>\n",
       "      <td>Husband</td>\n",
       "      <td>Male</td>\n",
       "      <td>0</td>\n",
       "      <td>0</td>\n",
       "      <td>40</td>\n",
       "      <td>United-States</td>\n",
       "      <td>greater than 50,000</td>\n",
       "      <td>40-49</td>\n",
       "      <td>White</td>\n",
       "    </tr>\n",
       "    <tr>\n",
       "      <th>3</th>\n",
       "      <td>Private</td>\n",
       "      <td>9th</td>\n",
       "      <td>Never-married</td>\n",
       "      <td>Craft-repair</td>\n",
       "      <td>Other-relative</td>\n",
       "      <td>Male</td>\n",
       "      <td>0</td>\n",
       "      <td>0</td>\n",
       "      <td>40</td>\n",
       "      <td>Mexico</td>\n",
       "      <td>less than or equal to 50,000</td>\n",
       "      <td>17-29</td>\n",
       "      <td>White</td>\n",
       "    </tr>\n",
       "    <tr>\n",
       "      <th>4</th>\n",
       "      <td>Private</td>\n",
       "      <td>Some-college</td>\n",
       "      <td>Never-married</td>\n",
       "      <td>Sales</td>\n",
       "      <td>Not-in-family</td>\n",
       "      <td>Male</td>\n",
       "      <td>0</td>\n",
       "      <td>0</td>\n",
       "      <td>35</td>\n",
       "      <td>United-States</td>\n",
       "      <td>less than or equal to 50,000</td>\n",
       "      <td>17-29</td>\n",
       "      <td>White</td>\n",
       "    </tr>\n",
       "  </tbody>\n",
       "</table>\n",
       "</div>"
      ],
      "text/plain": [
       "        JobType         EdType        maritalstatus       occupation  \\\n",
       "0       Private        HS-grad             Divorced     Adm-clerical   \n",
       "1   Federal-gov        HS-grad        Never-married     Armed-Forces   \n",
       "2       Private   Some-college   Married-civ-spouse   Prof-specialty   \n",
       "3       Private            9th        Never-married     Craft-repair   \n",
       "4       Private   Some-college        Never-married            Sales   \n",
       "\n",
       "      relationship   gender  capitalgain  capitalloss  hoursperweek  \\\n",
       "0    Not-in-family   Female            0            0            28   \n",
       "1        Own-child     Male            0            0            40   \n",
       "2          Husband     Male            0            0            40   \n",
       "3   Other-relative     Male            0            0            40   \n",
       "4    Not-in-family     Male            0            0            35   \n",
       "\n",
       "    nativecountry                        SalStat age_group new_race_column  \n",
       "0   United-States   less than or equal to 50,000     40-49           White  \n",
       "1   United-States   less than or equal to 50,000     17-29           White  \n",
       "2   United-States            greater than 50,000     40-49           White  \n",
       "3          Mexico   less than or equal to 50,000     17-29           White  \n",
       "4   United-States   less than or equal to 50,000     17-29           White  "
      ]
     },
     "execution_count": 44,
     "metadata": {},
     "output_type": "execute_result"
    }
   ],
   "source": [
    "inc2.head()"
   ]
  },
  {
   "cell_type": "code",
   "execution_count": 45,
   "id": "0e039dd4",
   "metadata": {},
   "outputs": [
    {
     "data": {
      "text/html": [
       "<div>\n",
       "<style scoped>\n",
       "    .dataframe tbody tr th:only-of-type {\n",
       "        vertical-align: middle;\n",
       "    }\n",
       "\n",
       "    .dataframe tbody tr th {\n",
       "        vertical-align: top;\n",
       "    }\n",
       "\n",
       "    .dataframe thead th {\n",
       "        text-align: right;\n",
       "    }\n",
       "</style>\n",
       "<table border=\"1\" class=\"dataframe\">\n",
       "  <thead>\n",
       "    <tr style=\"text-align: right;\">\n",
       "      <th></th>\n",
       "      <th>JobType</th>\n",
       "      <th>EdType</th>\n",
       "      <th>maritalstatus</th>\n",
       "      <th>occupation</th>\n",
       "      <th>relationship</th>\n",
       "      <th>gender</th>\n",
       "      <th>capitalgain</th>\n",
       "      <th>capitalloss</th>\n",
       "      <th>nativecountry</th>\n",
       "      <th>SalStat</th>\n",
       "      <th>age_group</th>\n",
       "      <th>new_race_column</th>\n",
       "      <th>hoursperweek_range</th>\n",
       "    </tr>\n",
       "  </thead>\n",
       "  <tbody>\n",
       "    <tr>\n",
       "      <th>0</th>\n",
       "      <td>Private</td>\n",
       "      <td>HS-grad</td>\n",
       "      <td>Divorced</td>\n",
       "      <td>Adm-clerical</td>\n",
       "      <td>Not-in-family</td>\n",
       "      <td>Female</td>\n",
       "      <td>0</td>\n",
       "      <td>0</td>\n",
       "      <td>United-States</td>\n",
       "      <td>less than or equal to 50,000</td>\n",
       "      <td>40-49</td>\n",
       "      <td>White</td>\n",
       "      <td>21-30</td>\n",
       "    </tr>\n",
       "    <tr>\n",
       "      <th>1</th>\n",
       "      <td>Federal-gov</td>\n",
       "      <td>HS-grad</td>\n",
       "      <td>Never-married</td>\n",
       "      <td>Armed-Forces</td>\n",
       "      <td>Own-child</td>\n",
       "      <td>Male</td>\n",
       "      <td>0</td>\n",
       "      <td>0</td>\n",
       "      <td>United-States</td>\n",
       "      <td>less than or equal to 50,000</td>\n",
       "      <td>17-29</td>\n",
       "      <td>White</td>\n",
       "      <td>31-40</td>\n",
       "    </tr>\n",
       "    <tr>\n",
       "      <th>2</th>\n",
       "      <td>Private</td>\n",
       "      <td>Some-college</td>\n",
       "      <td>Married-civ-spouse</td>\n",
       "      <td>Prof-specialty</td>\n",
       "      <td>Husband</td>\n",
       "      <td>Male</td>\n",
       "      <td>0</td>\n",
       "      <td>0</td>\n",
       "      <td>United-States</td>\n",
       "      <td>greater than 50,000</td>\n",
       "      <td>40-49</td>\n",
       "      <td>White</td>\n",
       "      <td>31-40</td>\n",
       "    </tr>\n",
       "    <tr>\n",
       "      <th>3</th>\n",
       "      <td>Private</td>\n",
       "      <td>9th</td>\n",
       "      <td>Never-married</td>\n",
       "      <td>Craft-repair</td>\n",
       "      <td>Other-relative</td>\n",
       "      <td>Male</td>\n",
       "      <td>0</td>\n",
       "      <td>0</td>\n",
       "      <td>Mexico</td>\n",
       "      <td>less than or equal to 50,000</td>\n",
       "      <td>17-29</td>\n",
       "      <td>White</td>\n",
       "      <td>31-40</td>\n",
       "    </tr>\n",
       "    <tr>\n",
       "      <th>4</th>\n",
       "      <td>Private</td>\n",
       "      <td>Some-college</td>\n",
       "      <td>Never-married</td>\n",
       "      <td>Sales</td>\n",
       "      <td>Not-in-family</td>\n",
       "      <td>Male</td>\n",
       "      <td>0</td>\n",
       "      <td>0</td>\n",
       "      <td>United-States</td>\n",
       "      <td>less than or equal to 50,000</td>\n",
       "      <td>17-29</td>\n",
       "      <td>White</td>\n",
       "      <td>31-40</td>\n",
       "    </tr>\n",
       "  </tbody>\n",
       "</table>\n",
       "</div>"
      ],
      "text/plain": [
       "        JobType         EdType        maritalstatus       occupation  \\\n",
       "0       Private        HS-grad             Divorced     Adm-clerical   \n",
       "1   Federal-gov        HS-grad        Never-married     Armed-Forces   \n",
       "2       Private   Some-college   Married-civ-spouse   Prof-specialty   \n",
       "3       Private            9th        Never-married     Craft-repair   \n",
       "4       Private   Some-college        Never-married            Sales   \n",
       "\n",
       "      relationship   gender  capitalgain  capitalloss   nativecountry  \\\n",
       "0    Not-in-family   Female            0            0   United-States   \n",
       "1        Own-child     Male            0            0   United-States   \n",
       "2          Husband     Male            0            0   United-States   \n",
       "3   Other-relative     Male            0            0          Mexico   \n",
       "4    Not-in-family     Male            0            0   United-States   \n",
       "\n",
       "                         SalStat age_group new_race_column hoursperweek_range  \n",
       "0   less than or equal to 50,000     40-49           White              21-30  \n",
       "1   less than or equal to 50,000     17-29           White              31-40  \n",
       "2            greater than 50,000     40-49           White              31-40  \n",
       "3   less than or equal to 50,000     17-29           White              31-40  \n",
       "4   less than or equal to 50,000     17-29           White              31-40  "
      ]
     },
     "execution_count": 45,
     "metadata": {},
     "output_type": "execute_result"
    }
   ],
   "source": [
    "# Define your custom bins/ranges\n",
    "bins = [1, 11, 21, 31, 41, 51, 61, 71, 81, 91]\n",
    "# Define labels for the bins\n",
    "labels = ['1-10', '11-20', '21-30', '31-40', '41-50', '51-60', '61-70', '71-80', '81-90']\n",
    "inc2['hoursperweek_range'] = pd.cut(inc2['hoursperweek'], bins=bins, labels=labels, right=False)\n",
    "inc2=inc2.drop(['hoursperweek'],axis=1)\n",
    "inc2.head()"
   ]
  },
  {
   "cell_type": "code",
   "execution_count": 56,
   "id": "0077d84a",
   "metadata": {},
   "outputs": [
    {
     "name": "stdout",
     "output_type": "stream",
     "text": [
      "0        0\n",
      "1        0\n",
      "2        1\n",
      "3        0\n",
      "4        0\n",
      "        ..\n",
      "31972    1\n",
      "31973    0\n",
      "31974    0\n",
      "31975    0\n",
      "31976    0\n",
      "Name: SalStat, Length: 26878, dtype: int64\n",
      "[1 1 0 ... 0 0 1]\n",
      "[[5570  459]\n",
      " [ 814 1221]]\n",
      "0.8421378968253969\n"
     ]
    }
   ],
   "source": [
    "from sklearn.model_selection import train_test_split\n",
    "\n",
    "# Importing library for logistic regression\n",
    "from sklearn.linear_model import LogisticRegression\n",
    "\n",
    "# Importing performance metrics - accuracy score & confusion matrix\n",
    "from sklearn.metrics import accuracy_score,confusion_matrix\n",
    "\n",
    "# Reindexing the salary status names to 0,1\n",
    "inc2['SalStat']=inc2['SalStat'].replace({' less than or equal to 50,000':0,' greater than 50,000':1})\n",
    "print(inc2['SalStat'])\n",
    "\n",
    "new_data=pd.get_dummies(inc2, drop_first=True)\n",
    "\n",
    "# Storing the column names \n",
    "columns_list=list(new_data.columns)\n",
    "# print(columns_list)\n",
    "\n",
    "# Separating the input names from data\n",
    "features=list(set(columns_list)-set(['SalStat']))\n",
    "# print(features)\n",
    "\n",
    "# Storing the output values in y\n",
    "y1=new_data['SalStat'].values\n",
    "#print(y)\n",
    "\n",
    "# Storing the values from input features\n",
    "x1 = new_data[features].values\n",
    "#print(x)\n",
    "\n",
    "# Splitting the data into train and test\n",
    "train_x1,test_x1,train_y1,test_y1 = train_test_split(x1,y1,test_size=0.3, random_state=0)\n",
    "\n",
    "# Make an instance of the Model\n",
    "logistic2 = LogisticRegression(solver='lbfgs', max_iter=1000)\n",
    "\n",
    "# Fitting the values for x and y\n",
    "logistic2.fit(train_x1,train_y1)\n",
    "logistic2.coef_\n",
    "logistic2.intercept_\n",
    "\n",
    "# Prediction from test data\n",
    "prediction2 = logistic2.predict(test_x1)\n",
    "print(prediction2)\n",
    "\n",
    "# Confusion matrix\n",
    "confusion_matrix2 = confusion_matrix(test_y, prediction2)\n",
    "print(confusion_matrix2)\n",
    "\n",
    "# Calculating the accuracy\n",
    "accuracy_score2=accuracy_score(test_y1, prediction)\n",
    "print(accuracy_score2)\n"
   ]
  },
  {
   "cell_type": "code",
   "execution_count": 57,
   "id": "230c4be0",
   "metadata": {},
   "outputs": [
    {
     "name": "stdout",
     "output_type": "stream",
     "text": [
      "Misclassified samples: 1273\n"
     ]
    }
   ],
   "source": [
    "# Printing the misclassified values from prediction\n",
    "\n",
    "print('Misclassified samples: %d' % (test_y1 != prediction2).sum())\n"
   ]
  },
  {
   "cell_type": "code",
   "execution_count": 58,
   "id": "feb5f052",
   "metadata": {},
   "outputs": [
    {
     "name": "stdout",
     "output_type": "stream",
     "text": [
      "roc_auc score :  0.9024328766408714\n",
      "Classification Report :\n",
      "                precision    recall  f1-score   support\n",
      "\n",
      "           0       0.87      0.92      0.90      6029\n",
      "           1       0.73      0.60      0.66      2035\n",
      "\n",
      "    accuracy                           0.84      8064\n",
      "   macro avg       0.80      0.76      0.78      8064\n",
      "weighted avg       0.84      0.84      0.84      8064\n",
      "\n",
      "confusion Matrix:\n",
      " [[5570  459]\n",
      " [ 814 1221]]\n"
     ]
    }
   ],
   "source": [
    "from sklearn.metrics import classification_report, confusion_matrix, roc_auc_score\n",
    "\n",
    "roc_auc = roc_auc_score(test_y1, logistic2.predict_proba(test_x1)[:,1])\n",
    "\n",
    "print(\"roc_auc score : \", roc_auc)\n",
    "print(\"Classification Report :\\n \",classification_report(test_y1,prediction2))\n",
    "print(\"confusion Matrix:\\n\", confusion_matrix(test_y1,prediction))"
   ]
  },
  {
   "cell_type": "code",
   "execution_count": null,
   "id": "e355ad8f",
   "metadata": {},
   "outputs": [],
   "source": []
  }
 ],
 "metadata": {
  "kernelspec": {
   "display_name": "Python 3 (ipykernel)",
   "language": "python",
   "name": "python3"
  },
  "language_info": {
   "codemirror_mode": {
    "name": "ipython",
    "version": 3
   },
   "file_extension": ".py",
   "mimetype": "text/x-python",
   "name": "python",
   "nbconvert_exporter": "python",
   "pygments_lexer": "ipython3",
   "version": "3.11.4"
  }
 },
 "nbformat": 4,
 "nbformat_minor": 5
}
